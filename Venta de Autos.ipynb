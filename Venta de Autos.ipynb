{
 "cells": [
  {
   "cell_type": "markdown",
   "metadata": {},
   "source": [
    "## Introducción"
   ]
  },
  {
   "cell_type": "markdown",
   "metadata": {},
   "source": [
    "El servicio de venta de autos usados Rusty Bargain está desarrollando una aplicación para atraer nuevos clientes. Gracias a esa app, puedes averiguar rápidamente el valor de mercado de tu coche. Tienes acceso al historial: especificaciones técnicas, versiones de equipamiento y precios. Tienes que crear un modelo que determine el valor de mercado.\n",
    "A Rusty Bargain le interesa:\n",
    "- La calidad de la predicción\n",
    "- La velocidad de la predicción\n",
    "- El tiempo requerido para el entrenamiento"
   ]
  },
  {
   "cell_type": "markdown",
   "metadata": {},
   "source": [
    "## Preparación de datos"
   ]
  },
  {
   "cell_type": "markdown",
   "metadata": {},
   "source": [
    "### Inicialización"
   ]
  },
  {
   "cell_type": "code",
   "execution_count": 79,
   "metadata": {},
   "outputs": [],
   "source": [
    "import matplotlib.pyplot as plt \n",
    "import pandas as pd\n",
    "import numpy as np\n",
    "import math\n",
    "import seaborn as sns\n",
    "import plotly.express as px\n",
    "\n",
    "from sklearn.linear_model import LinearRegression\n",
    "from sklearn.ensemble import RandomForestRegressor\n",
    "from sklearn.preprocessing import OrdinalEncoder\n",
    "from sklearn.model_selection import train_test_split, GridSearchCV\n",
    "from sklearn.metrics import mean_squared_error, r2_score, root_mean_squared_error\n",
    "from sklearn.metrics import classification_report\n",
    "\n",
    "from lightgbm import LGBMRegressor "
   ]
  },
  {
   "cell_type": "markdown",
   "metadata": {},
   "source": [
    "### Importación de datos"
   ]
  },
  {
   "cell_type": "code",
   "execution_count": 80,
   "metadata": {},
   "outputs": [],
   "source": [
    "df = pd.read_csv(\"https://practicum-content.s3.us-west-1.amazonaws.com/datasets/car_data.csv\")"
   ]
  },
  {
   "cell_type": "markdown",
   "metadata": {},
   "source": [
    "### Vista rápida"
   ]
  },
  {
   "cell_type": "code",
   "execution_count": 81,
   "metadata": {},
   "outputs": [
    {
     "data": {
      "text/html": [
       "<div>\n",
       "<style scoped>\n",
       "    .dataframe tbody tr th:only-of-type {\n",
       "        vertical-align: middle;\n",
       "    }\n",
       "\n",
       "    .dataframe tbody tr th {\n",
       "        vertical-align: top;\n",
       "    }\n",
       "\n",
       "    .dataframe thead th {\n",
       "        text-align: right;\n",
       "    }\n",
       "</style>\n",
       "<table border=\"1\" class=\"dataframe\">\n",
       "  <thead>\n",
       "    <tr style=\"text-align: right;\">\n",
       "      <th></th>\n",
       "      <th>DateCrawled</th>\n",
       "      <th>Price</th>\n",
       "      <th>VehicleType</th>\n",
       "      <th>RegistrationYear</th>\n",
       "      <th>Gearbox</th>\n",
       "      <th>Power</th>\n",
       "      <th>Model</th>\n",
       "      <th>Mileage</th>\n",
       "      <th>RegistrationMonth</th>\n",
       "      <th>FuelType</th>\n",
       "      <th>Brand</th>\n",
       "      <th>NotRepaired</th>\n",
       "      <th>DateCreated</th>\n",
       "      <th>NumberOfPictures</th>\n",
       "      <th>PostalCode</th>\n",
       "      <th>LastSeen</th>\n",
       "    </tr>\n",
       "  </thead>\n",
       "  <tbody>\n",
       "    <tr>\n",
       "      <th>0</th>\n",
       "      <td>24/03/2016 11:52</td>\n",
       "      <td>480</td>\n",
       "      <td>NaN</td>\n",
       "      <td>1993</td>\n",
       "      <td>manual</td>\n",
       "      <td>0</td>\n",
       "      <td>golf</td>\n",
       "      <td>150000</td>\n",
       "      <td>0</td>\n",
       "      <td>petrol</td>\n",
       "      <td>volkswagen</td>\n",
       "      <td>NaN</td>\n",
       "      <td>24/03/2016 00:00</td>\n",
       "      <td>0</td>\n",
       "      <td>70435</td>\n",
       "      <td>07/04/2016 03:16</td>\n",
       "    </tr>\n",
       "    <tr>\n",
       "      <th>1</th>\n",
       "      <td>24/03/2016 10:58</td>\n",
       "      <td>18300</td>\n",
       "      <td>coupe</td>\n",
       "      <td>2011</td>\n",
       "      <td>manual</td>\n",
       "      <td>190</td>\n",
       "      <td>NaN</td>\n",
       "      <td>125000</td>\n",
       "      <td>5</td>\n",
       "      <td>gasoline</td>\n",
       "      <td>audi</td>\n",
       "      <td>yes</td>\n",
       "      <td>24/03/2016 00:00</td>\n",
       "      <td>0</td>\n",
       "      <td>66954</td>\n",
       "      <td>07/04/2016 01:46</td>\n",
       "    </tr>\n",
       "    <tr>\n",
       "      <th>2</th>\n",
       "      <td>14/03/2016 12:52</td>\n",
       "      <td>9800</td>\n",
       "      <td>suv</td>\n",
       "      <td>2004</td>\n",
       "      <td>auto</td>\n",
       "      <td>163</td>\n",
       "      <td>grand</td>\n",
       "      <td>125000</td>\n",
       "      <td>8</td>\n",
       "      <td>gasoline</td>\n",
       "      <td>jeep</td>\n",
       "      <td>NaN</td>\n",
       "      <td>14/03/2016 00:00</td>\n",
       "      <td>0</td>\n",
       "      <td>90480</td>\n",
       "      <td>05/04/2016 12:47</td>\n",
       "    </tr>\n",
       "    <tr>\n",
       "      <th>3</th>\n",
       "      <td>17/03/2016 16:54</td>\n",
       "      <td>1500</td>\n",
       "      <td>small</td>\n",
       "      <td>2001</td>\n",
       "      <td>manual</td>\n",
       "      <td>75</td>\n",
       "      <td>golf</td>\n",
       "      <td>150000</td>\n",
       "      <td>6</td>\n",
       "      <td>petrol</td>\n",
       "      <td>volkswagen</td>\n",
       "      <td>no</td>\n",
       "      <td>17/03/2016 00:00</td>\n",
       "      <td>0</td>\n",
       "      <td>91074</td>\n",
       "      <td>17/03/2016 17:40</td>\n",
       "    </tr>\n",
       "    <tr>\n",
       "      <th>4</th>\n",
       "      <td>31/03/2016 17:25</td>\n",
       "      <td>3600</td>\n",
       "      <td>small</td>\n",
       "      <td>2008</td>\n",
       "      <td>manual</td>\n",
       "      <td>69</td>\n",
       "      <td>fabia</td>\n",
       "      <td>90000</td>\n",
       "      <td>7</td>\n",
       "      <td>gasoline</td>\n",
       "      <td>skoda</td>\n",
       "      <td>no</td>\n",
       "      <td>31/03/2016 00:00</td>\n",
       "      <td>0</td>\n",
       "      <td>60437</td>\n",
       "      <td>06/04/2016 10:17</td>\n",
       "    </tr>\n",
       "  </tbody>\n",
       "</table>\n",
       "</div>"
      ],
      "text/plain": [
       "        DateCrawled  Price VehicleType  RegistrationYear Gearbox  Power  \\\n",
       "0  24/03/2016 11:52    480         NaN              1993  manual      0   \n",
       "1  24/03/2016 10:58  18300       coupe              2011  manual    190   \n",
       "2  14/03/2016 12:52   9800         suv              2004    auto    163   \n",
       "3  17/03/2016 16:54   1500       small              2001  manual     75   \n",
       "4  31/03/2016 17:25   3600       small              2008  manual     69   \n",
       "\n",
       "   Model  Mileage  RegistrationMonth  FuelType       Brand NotRepaired  \\\n",
       "0   golf   150000                  0    petrol  volkswagen         NaN   \n",
       "1    NaN   125000                  5  gasoline        audi         yes   \n",
       "2  grand   125000                  8  gasoline        jeep         NaN   \n",
       "3   golf   150000                  6    petrol  volkswagen          no   \n",
       "4  fabia    90000                  7  gasoline       skoda          no   \n",
       "\n",
       "        DateCreated  NumberOfPictures  PostalCode          LastSeen  \n",
       "0  24/03/2016 00:00                 0       70435  07/04/2016 03:16  \n",
       "1  24/03/2016 00:00                 0       66954  07/04/2016 01:46  \n",
       "2  14/03/2016 00:00                 0       90480  05/04/2016 12:47  \n",
       "3  17/03/2016 00:00                 0       91074  17/03/2016 17:40  \n",
       "4  31/03/2016 00:00                 0       60437  06/04/2016 10:17  "
      ]
     },
     "execution_count": 81,
     "metadata": {},
     "output_type": "execute_result"
    }
   ],
   "source": [
    "df.head()"
   ]
  },
  {
   "cell_type": "code",
   "execution_count": 82,
   "metadata": {},
   "outputs": [
    {
     "name": "stdout",
     "output_type": "stream",
     "text": [
      "<class 'pandas.core.frame.DataFrame'>\n",
      "RangeIndex: 354369 entries, 0 to 354368\n",
      "Data columns (total 16 columns):\n",
      " #   Column             Non-Null Count   Dtype \n",
      "---  ------             --------------   ----- \n",
      " 0   DateCrawled        354369 non-null  object\n",
      " 1   Price              354369 non-null  int64 \n",
      " 2   VehicleType        316879 non-null  object\n",
      " 3   RegistrationYear   354369 non-null  int64 \n",
      " 4   Gearbox            334536 non-null  object\n",
      " 5   Power              354369 non-null  int64 \n",
      " 6   Model              334664 non-null  object\n",
      " 7   Mileage            354369 non-null  int64 \n",
      " 8   RegistrationMonth  354369 non-null  int64 \n",
      " 9   FuelType           321474 non-null  object\n",
      " 10  Brand              354369 non-null  object\n",
      " 11  NotRepaired        283215 non-null  object\n",
      " 12  DateCreated        354369 non-null  object\n",
      " 13  NumberOfPictures   354369 non-null  int64 \n",
      " 14  PostalCode         354369 non-null  int64 \n",
      " 15  LastSeen           354369 non-null  object\n",
      "dtypes: int64(7), object(9)\n",
      "memory usage: 43.3+ MB\n"
     ]
    }
   ],
   "source": [
    "df.info(show_counts=True)"
   ]
  },
  {
   "cell_type": "code",
   "execution_count": 83,
   "metadata": {},
   "outputs": [
    {
     "name": "stdout",
     "output_type": "stream",
     "text": [
      "\n",
      "La base de datos contiene 262 filas duplicadas.\n",
      "_______________________________________________\n"
     ]
    }
   ],
   "source": [
    "duplicates = df.duplicated().sum()\n",
    "print(\"\")\n",
    "print('La base de datos contiene {} filas duplicadas.'.format(duplicates))\n",
    "print('_______________________________________________')"
   ]
  },
  {
   "cell_type": "markdown",
   "metadata": {},
   "source": [
    "De manera rápida podemos observar que la base de datos tiene algunos detalles. Por ejemplo, los títulos de las columnas no están en formato snake. También podemos ver que la base de datos tiene valores ausentes, además, el tipo de datos de las columnas no es del tipo float y para finalizar la base de datos tiene filas duplicadas."
   ]
  },
  {
   "cell_type": "code",
   "execution_count": 84,
   "metadata": {},
   "outputs": [
    {
     "name": "stdout",
     "output_type": "stream",
     "text": [
      "Index(['datecrawled', 'price', 'vehicletype', 'registrationyear', 'gearbox',\n",
      "       'power', 'model', 'mileage', 'registrationmonth', 'fueltype', 'brand',\n",
      "       'notrepaired', 'datecreated', 'numberofpictures', 'postalcode',\n",
      "       'lastseen'],\n",
      "      dtype='object')\n"
     ]
    }
   ],
   "source": [
    "# Bucle en los encabezados poniendo todo en minúsculas\n",
    "new_col_names = []\n",
    "\n",
    "for i in df.columns:\n",
    "    new_name = i.lower()\n",
    "    new_col_names.append(new_name)\n",
    "\n",
    "df.columns = new_col_names    \n",
    "print(df.columns)"
   ]
  },
  {
   "cell_type": "code",
   "execution_count": 85,
   "metadata": {},
   "outputs": [
    {
     "data": {
      "text/html": [
       "<div>\n",
       "<style scoped>\n",
       "    .dataframe tbody tr th:only-of-type {\n",
       "        vertical-align: middle;\n",
       "    }\n",
       "\n",
       "    .dataframe tbody tr th {\n",
       "        vertical-align: top;\n",
       "    }\n",
       "\n",
       "    .dataframe thead th {\n",
       "        text-align: right;\n",
       "    }\n",
       "</style>\n",
       "<table border=\"1\" class=\"dataframe\">\n",
       "  <thead>\n",
       "    <tr style=\"text-align: right;\">\n",
       "      <th></th>\n",
       "      <th>date_crawled</th>\n",
       "      <th>price</th>\n",
       "      <th>vehicle_type</th>\n",
       "      <th>registration_year</th>\n",
       "      <th>gearbox</th>\n",
       "      <th>power</th>\n",
       "      <th>model</th>\n",
       "      <th>mileage</th>\n",
       "      <th>registration_month</th>\n",
       "      <th>fuel_type</th>\n",
       "      <th>brand</th>\n",
       "      <th>not_repaired</th>\n",
       "      <th>date_created</th>\n",
       "      <th>number_of_pictures</th>\n",
       "      <th>postal_code</th>\n",
       "      <th>last_seen</th>\n",
       "    </tr>\n",
       "  </thead>\n",
       "  <tbody>\n",
       "    <tr>\n",
       "      <th>0</th>\n",
       "      <td>24/03/2016 11:52</td>\n",
       "      <td>480</td>\n",
       "      <td>NaN</td>\n",
       "      <td>1993</td>\n",
       "      <td>manual</td>\n",
       "      <td>0</td>\n",
       "      <td>golf</td>\n",
       "      <td>150000</td>\n",
       "      <td>0</td>\n",
       "      <td>petrol</td>\n",
       "      <td>volkswagen</td>\n",
       "      <td>NaN</td>\n",
       "      <td>24/03/2016 00:00</td>\n",
       "      <td>0</td>\n",
       "      <td>70435</td>\n",
       "      <td>07/04/2016 03:16</td>\n",
       "    </tr>\n",
       "    <tr>\n",
       "      <th>1</th>\n",
       "      <td>24/03/2016 10:58</td>\n",
       "      <td>18300</td>\n",
       "      <td>coupe</td>\n",
       "      <td>2011</td>\n",
       "      <td>manual</td>\n",
       "      <td>190</td>\n",
       "      <td>NaN</td>\n",
       "      <td>125000</td>\n",
       "      <td>5</td>\n",
       "      <td>gasoline</td>\n",
       "      <td>audi</td>\n",
       "      <td>yes</td>\n",
       "      <td>24/03/2016 00:00</td>\n",
       "      <td>0</td>\n",
       "      <td>66954</td>\n",
       "      <td>07/04/2016 01:46</td>\n",
       "    </tr>\n",
       "    <tr>\n",
       "      <th>2</th>\n",
       "      <td>14/03/2016 12:52</td>\n",
       "      <td>9800</td>\n",
       "      <td>suv</td>\n",
       "      <td>2004</td>\n",
       "      <td>auto</td>\n",
       "      <td>163</td>\n",
       "      <td>grand</td>\n",
       "      <td>125000</td>\n",
       "      <td>8</td>\n",
       "      <td>gasoline</td>\n",
       "      <td>jeep</td>\n",
       "      <td>NaN</td>\n",
       "      <td>14/03/2016 00:00</td>\n",
       "      <td>0</td>\n",
       "      <td>90480</td>\n",
       "      <td>05/04/2016 12:47</td>\n",
       "    </tr>\n",
       "    <tr>\n",
       "      <th>3</th>\n",
       "      <td>17/03/2016 16:54</td>\n",
       "      <td>1500</td>\n",
       "      <td>small</td>\n",
       "      <td>2001</td>\n",
       "      <td>manual</td>\n",
       "      <td>75</td>\n",
       "      <td>golf</td>\n",
       "      <td>150000</td>\n",
       "      <td>6</td>\n",
       "      <td>petrol</td>\n",
       "      <td>volkswagen</td>\n",
       "      <td>no</td>\n",
       "      <td>17/03/2016 00:00</td>\n",
       "      <td>0</td>\n",
       "      <td>91074</td>\n",
       "      <td>17/03/2016 17:40</td>\n",
       "    </tr>\n",
       "    <tr>\n",
       "      <th>4</th>\n",
       "      <td>31/03/2016 17:25</td>\n",
       "      <td>3600</td>\n",
       "      <td>small</td>\n",
       "      <td>2008</td>\n",
       "      <td>manual</td>\n",
       "      <td>69</td>\n",
       "      <td>fabia</td>\n",
       "      <td>90000</td>\n",
       "      <td>7</td>\n",
       "      <td>gasoline</td>\n",
       "      <td>skoda</td>\n",
       "      <td>no</td>\n",
       "      <td>31/03/2016 00:00</td>\n",
       "      <td>0</td>\n",
       "      <td>60437</td>\n",
       "      <td>06/04/2016 10:17</td>\n",
       "    </tr>\n",
       "  </tbody>\n",
       "</table>\n",
       "</div>"
      ],
      "text/plain": [
       "       date_crawled  price vehicle_type  registration_year gearbox  power  \\\n",
       "0  24/03/2016 11:52    480          NaN               1993  manual      0   \n",
       "1  24/03/2016 10:58  18300        coupe               2011  manual    190   \n",
       "2  14/03/2016 12:52   9800          suv               2004    auto    163   \n",
       "3  17/03/2016 16:54   1500        small               2001  manual     75   \n",
       "4  31/03/2016 17:25   3600        small               2008  manual     69   \n",
       "\n",
       "   model  mileage  registration_month fuel_type       brand not_repaired  \\\n",
       "0   golf   150000                   0    petrol  volkswagen          NaN   \n",
       "1    NaN   125000                   5  gasoline        audi          yes   \n",
       "2  grand   125000                   8  gasoline        jeep          NaN   \n",
       "3   golf   150000                   6    petrol  volkswagen           no   \n",
       "4  fabia    90000                   7  gasoline       skoda           no   \n",
       "\n",
       "       date_created  number_of_pictures  postal_code         last_seen  \n",
       "0  24/03/2016 00:00                   0        70435  07/04/2016 03:16  \n",
       "1  24/03/2016 00:00                   0        66954  07/04/2016 01:46  \n",
       "2  14/03/2016 00:00                   0        90480  05/04/2016 12:47  \n",
       "3  17/03/2016 00:00                   0        91074  17/03/2016 17:40  \n",
       "4  31/03/2016 00:00                   0        60437  06/04/2016 10:17  "
      ]
     },
     "metadata": {},
     "output_type": "display_data"
    }
   ],
   "source": [
    "# Cambiar el nombre de los encabezados\n",
    "df = df.rename(columns={'datecrawled':'date_crawled','vehicletype':'vehicle_type',\n",
    "                        'registrationyear':'registration_year','registrationmonth':'registration_month',\n",
    "                        'fueltype':'fuel_type','notrepaired':'not_repaired','datecreated':'date_created',\n",
    "                        'numberofpictures':'number_of_pictures','postalcode':'postal_code', \n",
    "                        'lastseen':'last_seen'})\n",
    "\n",
    "display(df.head())"
   ]
  },
  {
   "cell_type": "code",
   "execution_count": 86,
   "metadata": {},
   "outputs": [
    {
     "data": {
      "text/html": [
       "<div>\n",
       "<style scoped>\n",
       "    .dataframe tbody tr th:only-of-type {\n",
       "        vertical-align: middle;\n",
       "    }\n",
       "\n",
       "    .dataframe tbody tr th {\n",
       "        vertical-align: top;\n",
       "    }\n",
       "\n",
       "    .dataframe thead th {\n",
       "        text-align: right;\n",
       "    }\n",
       "</style>\n",
       "<table border=\"1\" class=\"dataframe\">\n",
       "  <thead>\n",
       "    <tr style=\"text-align: right;\">\n",
       "      <th></th>\n",
       "      <th>date_crawled</th>\n",
       "      <th>price</th>\n",
       "      <th>vehicle_type</th>\n",
       "      <th>registration_year</th>\n",
       "      <th>gearbox</th>\n",
       "      <th>power</th>\n",
       "      <th>model</th>\n",
       "      <th>mileage</th>\n",
       "      <th>registration_month</th>\n",
       "      <th>fuel_type</th>\n",
       "      <th>brand</th>\n",
       "      <th>not_repaired</th>\n",
       "      <th>date_created</th>\n",
       "      <th>number_of_pictures</th>\n",
       "      <th>postal_code</th>\n",
       "      <th>last_seen</th>\n",
       "    </tr>\n",
       "  </thead>\n",
       "  <tbody>\n",
       "    <tr>\n",
       "      <th>3</th>\n",
       "      <td>17/03/2016 16:54</td>\n",
       "      <td>1500</td>\n",
       "      <td>small</td>\n",
       "      <td>2001</td>\n",
       "      <td>manual</td>\n",
       "      <td>75</td>\n",
       "      <td>golf</td>\n",
       "      <td>150000</td>\n",
       "      <td>6</td>\n",
       "      <td>petrol</td>\n",
       "      <td>volkswagen</td>\n",
       "      <td>no</td>\n",
       "      <td>17/03/2016 00:00</td>\n",
       "      <td>0</td>\n",
       "      <td>91074</td>\n",
       "      <td>17/03/2016 17:40</td>\n",
       "    </tr>\n",
       "    <tr>\n",
       "      <th>4</th>\n",
       "      <td>31/03/2016 17:25</td>\n",
       "      <td>3600</td>\n",
       "      <td>small</td>\n",
       "      <td>2008</td>\n",
       "      <td>manual</td>\n",
       "      <td>69</td>\n",
       "      <td>fabia</td>\n",
       "      <td>90000</td>\n",
       "      <td>7</td>\n",
       "      <td>gasoline</td>\n",
       "      <td>skoda</td>\n",
       "      <td>no</td>\n",
       "      <td>31/03/2016 00:00</td>\n",
       "      <td>0</td>\n",
       "      <td>60437</td>\n",
       "      <td>06/04/2016 10:17</td>\n",
       "    </tr>\n",
       "    <tr>\n",
       "      <th>5</th>\n",
       "      <td>04/04/2016 17:36</td>\n",
       "      <td>650</td>\n",
       "      <td>sedan</td>\n",
       "      <td>1995</td>\n",
       "      <td>manual</td>\n",
       "      <td>102</td>\n",
       "      <td>3er</td>\n",
       "      <td>150000</td>\n",
       "      <td>10</td>\n",
       "      <td>petrol</td>\n",
       "      <td>bmw</td>\n",
       "      <td>yes</td>\n",
       "      <td>04/04/2016 00:00</td>\n",
       "      <td>0</td>\n",
       "      <td>33775</td>\n",
       "      <td>06/04/2016 19:17</td>\n",
       "    </tr>\n",
       "    <tr>\n",
       "      <th>6</th>\n",
       "      <td>01/04/2016 20:48</td>\n",
       "      <td>2200</td>\n",
       "      <td>convertible</td>\n",
       "      <td>2004</td>\n",
       "      <td>manual</td>\n",
       "      <td>109</td>\n",
       "      <td>2_reihe</td>\n",
       "      <td>150000</td>\n",
       "      <td>8</td>\n",
       "      <td>petrol</td>\n",
       "      <td>peugeot</td>\n",
       "      <td>no</td>\n",
       "      <td>01/04/2016 00:00</td>\n",
       "      <td>0</td>\n",
       "      <td>67112</td>\n",
       "      <td>05/04/2016 18:18</td>\n",
       "    </tr>\n",
       "    <tr>\n",
       "      <th>7</th>\n",
       "      <td>21/03/2016 18:54</td>\n",
       "      <td>0</td>\n",
       "      <td>sedan</td>\n",
       "      <td>1980</td>\n",
       "      <td>manual</td>\n",
       "      <td>50</td>\n",
       "      <td>other</td>\n",
       "      <td>40000</td>\n",
       "      <td>7</td>\n",
       "      <td>petrol</td>\n",
       "      <td>volkswagen</td>\n",
       "      <td>no</td>\n",
       "      <td>21/03/2016 00:00</td>\n",
       "      <td>0</td>\n",
       "      <td>19348</td>\n",
       "      <td>25/03/2016 16:47</td>\n",
       "    </tr>\n",
       "  </tbody>\n",
       "</table>\n",
       "</div>"
      ],
      "text/plain": [
       "       date_crawled  price vehicle_type  registration_year gearbox  power  \\\n",
       "3  17/03/2016 16:54   1500        small               2001  manual     75   \n",
       "4  31/03/2016 17:25   3600        small               2008  manual     69   \n",
       "5  04/04/2016 17:36    650        sedan               1995  manual    102   \n",
       "6  01/04/2016 20:48   2200  convertible               2004  manual    109   \n",
       "7  21/03/2016 18:54      0        sedan               1980  manual     50   \n",
       "\n",
       "     model  mileage  registration_month fuel_type       brand not_repaired  \\\n",
       "3     golf   150000                   6    petrol  volkswagen           no   \n",
       "4    fabia    90000                   7  gasoline       skoda           no   \n",
       "5      3er   150000                  10    petrol         bmw          yes   \n",
       "6  2_reihe   150000                   8    petrol     peugeot           no   \n",
       "7    other    40000                   7    petrol  volkswagen           no   \n",
       "\n",
       "       date_created  number_of_pictures  postal_code         last_seen  \n",
       "3  17/03/2016 00:00                   0        91074  17/03/2016 17:40  \n",
       "4  31/03/2016 00:00                   0        60437  06/04/2016 10:17  \n",
       "5  04/04/2016 00:00                   0        33775  06/04/2016 19:17  \n",
       "6  01/04/2016 00:00                   0        67112  05/04/2016 18:18  \n",
       "7  21/03/2016 00:00                   0        19348  25/03/2016 16:47  "
      ]
     },
     "metadata": {},
     "output_type": "display_data"
    }
   ],
   "source": [
    "# Limpieza de datos de valores NA\n",
    "df = df.dropna()\n",
    "# Eliminación de duplicados\n",
    "df = df.drop_duplicates()\n",
    "\n",
    "display(df.head(5))"
   ]
  },
  {
   "cell_type": "code",
   "execution_count": 87,
   "metadata": {},
   "outputs": [
    {
     "data": {
      "image/png": "[encoded data removed]",
      "text/plain": [
       "<Figure size 640x480 with 1 Axes>"
      ]
     },
     "metadata": {},
     "output_type": "display_data"
    }
   ],
   "source": [
    "# Histograma de precios\n",
    "df[\"price\"].plot(kind='hist',ylabel='Frequency',xlabel='Price',\n",
    "                 title='Histograma Autos Usados',edgecolor=\"black\")\n",
    "plt.show()"
   ]
  },
  {
   "cell_type": "markdown",
   "metadata": {},
   "source": [
    "Al parecer existe un número significativo de carros cuyo valor es igual a 0. Por el momento, se van a dejar estos datos como están. Sin embargo, es algo que llama la atención y que probablemente sea un error."
   ]
  },
  {
   "cell_type": "code",
   "execution_count": 88,
   "metadata": {},
   "outputs": [
    {
     "data": {
      "image/png": "[encoded data removed]",
      "text/plain": [
       "<Figure size 640x480 with 1 Axes>"
      ]
     },
     "metadata": {},
     "output_type": "display_data"
    }
   ],
   "source": [
    "# Gráfica de potencia\n",
    "df[df[\"power\"]>0].plot(y='power',ylabel='power',xlabel='entries')\n",
    "plt.show()"
   ]
  },
  {
   "cell_type": "markdown",
   "metadata": {},
   "source": [
    "En la gráfica de potencia podemos observar que ciertos valores son muy altos, los cuales no son reales y sería mejor eliminarlos. También existen valores iguales a 0, lo cual resulta incongruente y sería mejor eliminarlos también. Los automóviles superdeportivos tienen alrededor de 1000 CV, por lo cual ese será el criterio: valores menores a 1000."
   ]
  },
  {
   "cell_type": "code",
   "execution_count": 89,
   "metadata": {},
   "outputs": [
    {
     "data": {
      "text/html": [
       "<div>\n",
       "<style scoped>\n",
       "    .dataframe tbody tr th:only-of-type {\n",
       "        vertical-align: middle;\n",
       "    }\n",
       "\n",
       "    .dataframe tbody tr th {\n",
       "        vertical-align: top;\n",
       "    }\n",
       "\n",
       "    .dataframe thead th {\n",
       "        text-align: right;\n",
       "    }\n",
       "</style>\n",
       "<table border=\"1\" class=\"dataframe\">\n",
       "  <thead>\n",
       "    <tr style=\"text-align: right;\">\n",
       "      <th></th>\n",
       "      <th>date_crawled</th>\n",
       "      <th>price</th>\n",
       "      <th>vehicle_type</th>\n",
       "      <th>registration_year</th>\n",
       "      <th>gearbox</th>\n",
       "      <th>power</th>\n",
       "      <th>model</th>\n",
       "      <th>mileage</th>\n",
       "      <th>registration_month</th>\n",
       "      <th>fuel_type</th>\n",
       "      <th>brand</th>\n",
       "      <th>not_repaired</th>\n",
       "      <th>date_created</th>\n",
       "      <th>number_of_pictures</th>\n",
       "      <th>postal_code</th>\n",
       "      <th>last_seen</th>\n",
       "    </tr>\n",
       "  </thead>\n",
       "  <tbody>\n",
       "    <tr>\n",
       "      <th>3</th>\n",
       "      <td>17/03/2016 16:54</td>\n",
       "      <td>1500</td>\n",
       "      <td>small</td>\n",
       "      <td>2001</td>\n",
       "      <td>manual</td>\n",
       "      <td>75</td>\n",
       "      <td>golf</td>\n",
       "      <td>150000</td>\n",
       "      <td>6</td>\n",
       "      <td>petrol</td>\n",
       "      <td>volkswagen</td>\n",
       "      <td>no</td>\n",
       "      <td>17/03/2016 00:00</td>\n",
       "      <td>0</td>\n",
       "      <td>91074</td>\n",
       "      <td>17/03/2016 17:40</td>\n",
       "    </tr>\n",
       "    <tr>\n",
       "      <th>4</th>\n",
       "      <td>31/03/2016 17:25</td>\n",
       "      <td>3600</td>\n",
       "      <td>small</td>\n",
       "      <td>2008</td>\n",
       "      <td>manual</td>\n",
       "      <td>69</td>\n",
       "      <td>fabia</td>\n",
       "      <td>90000</td>\n",
       "      <td>7</td>\n",
       "      <td>gasoline</td>\n",
       "      <td>skoda</td>\n",
       "      <td>no</td>\n",
       "      <td>31/03/2016 00:00</td>\n",
       "      <td>0</td>\n",
       "      <td>60437</td>\n",
       "      <td>06/04/2016 10:17</td>\n",
       "    </tr>\n",
       "    <tr>\n",
       "      <th>5</th>\n",
       "      <td>04/04/2016 17:36</td>\n",
       "      <td>650</td>\n",
       "      <td>sedan</td>\n",
       "      <td>1995</td>\n",
       "      <td>manual</td>\n",
       "      <td>102</td>\n",
       "      <td>3er</td>\n",
       "      <td>150000</td>\n",
       "      <td>10</td>\n",
       "      <td>petrol</td>\n",
       "      <td>bmw</td>\n",
       "      <td>yes</td>\n",
       "      <td>04/04/2016 00:00</td>\n",
       "      <td>0</td>\n",
       "      <td>33775</td>\n",
       "      <td>06/04/2016 19:17</td>\n",
       "    </tr>\n",
       "    <tr>\n",
       "      <th>6</th>\n",
       "      <td>01/04/2016 20:48</td>\n",
       "      <td>2200</td>\n",
       "      <td>convertible</td>\n",
       "      <td>2004</td>\n",
       "      <td>manual</td>\n",
       "      <td>109</td>\n",
       "      <td>2_reihe</td>\n",
       "      <td>150000</td>\n",
       "      <td>8</td>\n",
       "      <td>petrol</td>\n",
       "      <td>peugeot</td>\n",
       "      <td>no</td>\n",
       "      <td>01/04/2016 00:00</td>\n",
       "      <td>0</td>\n",
       "      <td>67112</td>\n",
       "      <td>05/04/2016 18:18</td>\n",
       "    </tr>\n",
       "    <tr>\n",
       "      <th>7</th>\n",
       "      <td>21/03/2016 18:54</td>\n",
       "      <td>0</td>\n",
       "      <td>sedan</td>\n",
       "      <td>1980</td>\n",
       "      <td>manual</td>\n",
       "      <td>50</td>\n",
       "      <td>other</td>\n",
       "      <td>40000</td>\n",
       "      <td>7</td>\n",
       "      <td>petrol</td>\n",
       "      <td>volkswagen</td>\n",
       "      <td>no</td>\n",
       "      <td>21/03/2016 00:00</td>\n",
       "      <td>0</td>\n",
       "      <td>19348</td>\n",
       "      <td>25/03/2016 16:47</td>\n",
       "    </tr>\n",
       "  </tbody>\n",
       "</table>\n",
       "</div>"
      ],
      "text/plain": [
       "       date_crawled  price vehicle_type  registration_year gearbox  power  \\\n",
       "3  17/03/2016 16:54   1500        small               2001  manual     75   \n",
       "4  31/03/2016 17:25   3600        small               2008  manual     69   \n",
       "5  04/04/2016 17:36    650        sedan               1995  manual    102   \n",
       "6  01/04/2016 20:48   2200  convertible               2004  manual    109   \n",
       "7  21/03/2016 18:54      0        sedan               1980  manual     50   \n",
       "\n",
       "     model  mileage  registration_month fuel_type       brand not_repaired  \\\n",
       "3     golf   150000                   6    petrol  volkswagen           no   \n",
       "4    fabia    90000                   7  gasoline       skoda           no   \n",
       "5      3er   150000                  10    petrol         bmw          yes   \n",
       "6  2_reihe   150000                   8    petrol     peugeot           no   \n",
       "7    other    40000                   7    petrol  volkswagen           no   \n",
       "\n",
       "       date_created  number_of_pictures  postal_code         last_seen  \n",
       "3  17/03/2016 00:00                   0        91074  17/03/2016 17:40  \n",
       "4  31/03/2016 00:00                   0        60437  06/04/2016 10:17  \n",
       "5  04/04/2016 00:00                   0        33775  06/04/2016 19:17  \n",
       "6  01/04/2016 00:00                   0        67112  05/04/2016 18:18  \n",
       "7  21/03/2016 00:00                   0        19348  25/03/2016 16:47  "
      ]
     },
     "metadata": {},
     "output_type": "display_data"
    }
   ],
   "source": [
    "df = df[df[\"power\"]<1000]\n",
    "df = df[df[\"power\"]!=0]\n",
    "display(df.head())"
   ]
  },
  {
   "cell_type": "code",
   "execution_count": 90,
   "metadata": {},
   "outputs": [
    {
     "data": {
      "image/png": "[encoded data removed]",
      "text/plain": [
       "<Figure size 640x480 with 1 Axes>"
      ]
     },
     "metadata": {},
     "output_type": "display_data"
    }
   ],
   "source": [
    "# Histograma de potencia\n",
    "df[\"power\"].plot(kind='hist',ylabel='Frequency',xlabel='CV',\n",
    "                 title='Histograma Autos Usados',edgecolor=\"black\",bins=20)\n",
    "plt.show()"
   ]
  },
  {
   "cell_type": "markdown",
   "metadata": {},
   "source": [
    "La base de datos se encuentra en un estado en el cual se puede empezar a utilizar para construir modelos de machine learning. Sin embargo, no todas las columnas van a ser significativas para predecir el precio. Por lo tanto, se van a seleccionar solo las que influyen en el precio."
   ]
  },
  {
   "cell_type": "code",
   "execution_count": 91,
   "metadata": {},
   "outputs": [
    {
     "data": {
      "text/html": [
       "<div>\n",
       "<style scoped>\n",
       "    .dataframe tbody tr th:only-of-type {\n",
       "        vertical-align: middle;\n",
       "    }\n",
       "\n",
       "    .dataframe tbody tr th {\n",
       "        vertical-align: top;\n",
       "    }\n",
       "\n",
       "    .dataframe thead th {\n",
       "        text-align: right;\n",
       "    }\n",
       "</style>\n",
       "<table border=\"1\" class=\"dataframe\">\n",
       "  <thead>\n",
       "    <tr style=\"text-align: right;\">\n",
       "      <th></th>\n",
       "      <th>price</th>\n",
       "      <th>vehicle_type</th>\n",
       "      <th>registration_year</th>\n",
       "      <th>gearbox</th>\n",
       "      <th>power</th>\n",
       "      <th>model</th>\n",
       "      <th>mileage</th>\n",
       "      <th>fuel_type</th>\n",
       "      <th>brand</th>\n",
       "      <th>not_repaired</th>\n",
       "    </tr>\n",
       "  </thead>\n",
       "  <tbody>\n",
       "    <tr>\n",
       "      <th>0</th>\n",
       "      <td>1500</td>\n",
       "      <td>small</td>\n",
       "      <td>2001</td>\n",
       "      <td>manual</td>\n",
       "      <td>75</td>\n",
       "      <td>golf</td>\n",
       "      <td>150000</td>\n",
       "      <td>petrol</td>\n",
       "      <td>volkswagen</td>\n",
       "      <td>no</td>\n",
       "    </tr>\n",
       "    <tr>\n",
       "      <th>1</th>\n",
       "      <td>3600</td>\n",
       "      <td>small</td>\n",
       "      <td>2008</td>\n",
       "      <td>manual</td>\n",
       "      <td>69</td>\n",
       "      <td>fabia</td>\n",
       "      <td>90000</td>\n",
       "      <td>gasoline</td>\n",
       "      <td>skoda</td>\n",
       "      <td>no</td>\n",
       "    </tr>\n",
       "    <tr>\n",
       "      <th>2</th>\n",
       "      <td>650</td>\n",
       "      <td>sedan</td>\n",
       "      <td>1995</td>\n",
       "      <td>manual</td>\n",
       "      <td>102</td>\n",
       "      <td>3er</td>\n",
       "      <td>150000</td>\n",
       "      <td>petrol</td>\n",
       "      <td>bmw</td>\n",
       "      <td>yes</td>\n",
       "    </tr>\n",
       "    <tr>\n",
       "      <th>3</th>\n",
       "      <td>2200</td>\n",
       "      <td>convertible</td>\n",
       "      <td>2004</td>\n",
       "      <td>manual</td>\n",
       "      <td>109</td>\n",
       "      <td>2_reihe</td>\n",
       "      <td>150000</td>\n",
       "      <td>petrol</td>\n",
       "      <td>peugeot</td>\n",
       "      <td>no</td>\n",
       "    </tr>\n",
       "    <tr>\n",
       "      <th>4</th>\n",
       "      <td>0</td>\n",
       "      <td>sedan</td>\n",
       "      <td>1980</td>\n",
       "      <td>manual</td>\n",
       "      <td>50</td>\n",
       "      <td>other</td>\n",
       "      <td>40000</td>\n",
       "      <td>petrol</td>\n",
       "      <td>volkswagen</td>\n",
       "      <td>no</td>\n",
       "    </tr>\n",
       "  </tbody>\n",
       "</table>\n",
       "</div>"
      ],
      "text/plain": [
       "   price vehicle_type  registration_year gearbox  power    model  mileage  \\\n",
       "0   1500        small               2001  manual     75     golf   150000   \n",
       "1   3600        small               2008  manual     69    fabia    90000   \n",
       "2    650        sedan               1995  manual    102      3er   150000   \n",
       "3   2200  convertible               2004  manual    109  2_reihe   150000   \n",
       "4      0        sedan               1980  manual     50    other    40000   \n",
       "\n",
       "  fuel_type       brand not_repaired  \n",
       "0    petrol  volkswagen           no  \n",
       "1  gasoline       skoda           no  \n",
       "2    petrol         bmw          yes  \n",
       "3    petrol     peugeot           no  \n",
       "4    petrol  volkswagen           no  "
      ]
     },
     "execution_count": 91,
     "metadata": {},
     "output_type": "execute_result"
    }
   ],
   "source": [
    "df_filtered = df[[\"price\",\"vehicle_type\",\"registration_year\",\"gearbox\",\"power\",\"model\",\"mileage\",\"fuel_type\",\"brand\",\"not_repaired\"]]\n",
    "df_filtered_ohe = df[[\"price\",\"vehicle_type\",\"registration_year\",\"gearbox\",\"power\",\"mileage\",\"fuel_type\",\"brand\",\"not_repaired\"]]\n",
    "df_filtered.reset_index(drop=True, inplace=True )\n",
    "df_filtered.head(5)"
   ]
  },
  {
   "cell_type": "markdown",
   "metadata": {},
   "source": [
    "Las regresiones lineales trabajan solamente con valores numéricos, pero esta base de datos tiene características categóricas que influyen en el precio de los carros, como la marca, el tipo de vehículo, el tipo de transmisión, entre otros. Es por eso que las características categóricas se tienen que convertir en numéricas, por medio de OrdinalEncoder."
   ]
  },
  {
   "cell_type": "code",
   "execution_count": 92,
   "metadata": {},
   "outputs": [
    {
     "data": {
      "text/html": [
       "<div>\n",
       "<style scoped>\n",
       "    .dataframe tbody tr th:only-of-type {\n",
       "        vertical-align: middle;\n",
       "    }\n",
       "\n",
       "    .dataframe tbody tr th {\n",
       "        vertical-align: top;\n",
       "    }\n",
       "\n",
       "    .dataframe thead th {\n",
       "        text-align: right;\n",
       "    }\n",
       "</style>\n",
       "<table border=\"1\" class=\"dataframe\">\n",
       "  <thead>\n",
       "    <tr style=\"text-align: right;\">\n",
       "      <th></th>\n",
       "      <th>price</th>\n",
       "      <th>vehicle_type</th>\n",
       "      <th>registration_year</th>\n",
       "      <th>gearbox</th>\n",
       "      <th>power</th>\n",
       "      <th>model</th>\n",
       "      <th>mileage</th>\n",
       "      <th>fuel_type</th>\n",
       "      <th>brand</th>\n",
       "      <th>not_repaired</th>\n",
       "    </tr>\n",
       "  </thead>\n",
       "  <tbody>\n",
       "    <tr>\n",
       "      <th>0</th>\n",
       "      <td>1500</td>\n",
       "      <td>5.0</td>\n",
       "      <td>2001</td>\n",
       "      <td>1.0</td>\n",
       "      <td>75</td>\n",
       "      <td>116.0</td>\n",
       "      <td>150000</td>\n",
       "      <td>6.0</td>\n",
       "      <td>37.0</td>\n",
       "      <td>0.0</td>\n",
       "    </tr>\n",
       "    <tr>\n",
       "      <th>1</th>\n",
       "      <td>3600</td>\n",
       "      <td>5.0</td>\n",
       "      <td>2008</td>\n",
       "      <td>1.0</td>\n",
       "      <td>69</td>\n",
       "      <td>101.0</td>\n",
       "      <td>90000</td>\n",
       "      <td>2.0</td>\n",
       "      <td>31.0</td>\n",
       "      <td>0.0</td>\n",
       "    </tr>\n",
       "    <tr>\n",
       "      <th>2</th>\n",
       "      <td>650</td>\n",
       "      <td>4.0</td>\n",
       "      <td>1995</td>\n",
       "      <td>1.0</td>\n",
       "      <td>102</td>\n",
       "      <td>11.0</td>\n",
       "      <td>150000</td>\n",
       "      <td>6.0</td>\n",
       "      <td>2.0</td>\n",
       "      <td>1.0</td>\n",
       "    </tr>\n",
       "    <tr>\n",
       "      <th>3</th>\n",
       "      <td>2200</td>\n",
       "      <td>1.0</td>\n",
       "      <td>2004</td>\n",
       "      <td>1.0</td>\n",
       "      <td>109</td>\n",
       "      <td>8.0</td>\n",
       "      <td>150000</td>\n",
       "      <td>6.0</td>\n",
       "      <td>25.0</td>\n",
       "      <td>0.0</td>\n",
       "    </tr>\n",
       "    <tr>\n",
       "      <th>4</th>\n",
       "      <td>0</td>\n",
       "      <td>4.0</td>\n",
       "      <td>1980</td>\n",
       "      <td>1.0</td>\n",
       "      <td>50</td>\n",
       "      <td>166.0</td>\n",
       "      <td>40000</td>\n",
       "      <td>6.0</td>\n",
       "      <td>37.0</td>\n",
       "      <td>0.0</td>\n",
       "    </tr>\n",
       "  </tbody>\n",
       "</table>\n",
       "</div>"
      ],
      "text/plain": [
       "   price vehicle_type  registration_year gearbox  power  model  mileage  \\\n",
       "0   1500          5.0               2001     1.0     75  116.0   150000   \n",
       "1   3600          5.0               2008     1.0     69  101.0    90000   \n",
       "2    650          4.0               1995     1.0    102   11.0   150000   \n",
       "3   2200          1.0               2004     1.0    109    8.0   150000   \n",
       "4      0          4.0               1980     1.0     50  166.0    40000   \n",
       "\n",
       "  fuel_type brand not_repaired  \n",
       "0       6.0  37.0          0.0  \n",
       "1       2.0  31.0          0.0  \n",
       "2       6.0   2.0          1.0  \n",
       "3       6.0  25.0          0.0  \n",
       "4       6.0  37.0          0.0  "
      ]
     },
     "metadata": {},
     "output_type": "display_data"
    },
    {
     "name": "stdout",
     "output_type": "stream",
     "text": [
      "<class 'pandas.core.frame.DataFrame'>\n",
      "RangeIndex: 235827 entries, 0 to 235826\n",
      "Data columns (total 10 columns):\n",
      " #   Column             Non-Null Count   Dtype \n",
      "---  ------             --------------   ----- \n",
      " 0   price              235827 non-null  int64 \n",
      " 1   vehicle_type       235827 non-null  object\n",
      " 2   registration_year  235827 non-null  int64 \n",
      " 3   gearbox            235827 non-null  object\n",
      " 4   power              235827 non-null  int64 \n",
      " 5   model              235827 non-null  object\n",
      " 6   mileage            235827 non-null  int64 \n",
      " 7   fuel_type          235827 non-null  object\n",
      " 8   brand              235827 non-null  object\n",
      " 9   not_repaired       235827 non-null  object\n",
      "dtypes: int64(4), object(6)\n",
      "memory usage: 18.0+ MB\n"
     ]
    },
    {
     "data": {
      "text/plain": [
       "None"
      ]
     },
     "metadata": {},
     "output_type": "display_data"
    }
   ],
   "source": [
    "df_filtered_cat = df_filtered[['vehicle_type','gearbox','model','fuel_type','brand','not_repaired']]\n",
    "encoder = OrdinalEncoder()\n",
    "data_ordinal = pd.DataFrame(encoder.fit_transform(df_filtered_cat), columns=df_filtered_cat.columns)\n",
    "\n",
    "df_filtered.iloc[:,1] = data_ordinal.iloc[:,0]\n",
    "df_filtered.iloc[:,3] = data_ordinal.iloc[:,1]\n",
    "df_filtered.iloc[:,5] = data_ordinal.iloc[:,2]\n",
    "\n",
    "df_filtered.iloc[:,7] = data_ordinal.iloc[:,3]\n",
    "df_filtered.iloc[:,8] = data_ordinal.iloc[:,4]\n",
    "df_filtered.iloc[:,9] = data_ordinal.iloc[:,5]\n",
    "\n",
    "display(df_filtered.head())\n",
    "display(df_filtered.info())"
   ]
  },
  {
   "cell_type": "code",
   "execution_count": 93,
   "metadata": {},
   "outputs": [
    {
     "name": "stdout",
     "output_type": "stream",
     "text": [
      "<class 'pandas.core.frame.DataFrame'>\n",
      "RangeIndex: 235827 entries, 0 to 235826\n",
      "Data columns (total 10 columns):\n",
      " #   Column             Non-Null Count   Dtype\n",
      "---  ------             --------------   -----\n",
      " 0   price              235827 non-null  int64\n",
      " 1   vehicle_type       235827 non-null  int64\n",
      " 2   registration_year  235827 non-null  int64\n",
      " 3   gearbox            235827 non-null  int64\n",
      " 4   power              235827 non-null  int64\n",
      " 5   model              235827 non-null  int64\n",
      " 6   mileage            235827 non-null  int64\n",
      " 7   fuel_type          235827 non-null  int64\n",
      " 8   brand              235827 non-null  int64\n",
      " 9   not_repaired       235827 non-null  int64\n",
      "dtypes: int64(10)\n",
      "memory usage: 18.0 MB\n"
     ]
    }
   ],
   "source": [
    "df_filtered = df_filtered.copy()\n",
    "\n",
    "df_filtered[\"vehicle_type\"] = df_filtered[\"vehicle_type\"].astype(int)\n",
    "df_filtered[\"gearbox\"] = df_filtered[\"gearbox\"].astype(int)\n",
    "df_filtered[\"fuel_type\"] = df_filtered[\"fuel_type\"].astype(int)\n",
    "df_filtered[\"brand\"] = df_filtered[\"brand\"].astype(int)\n",
    "df_filtered[\"not_repaired\"] = df_filtered[\"not_repaired\"].astype(int)\n",
    "df_filtered[\"model\"] = df_filtered[\"model\"].astype(int)\n",
    "\n",
    "df_filtered.info()"
   ]
  },
  {
   "cell_type": "markdown",
   "metadata": {},
   "source": [
    "En este punto, los datos se encuentran limpios y filtrados. Además, los datos categóricos relevantes ya se convirtieron en numéricos, lo cual nos permitirá realizar predicciones de precio."
   ]
  },
  {
   "cell_type": "markdown",
   "metadata": {},
   "source": [
    "## Entrenamiento del modelo "
   ]
  },
  {
   "cell_type": "markdown",
   "metadata": {},
   "source": [
    "En esta parte del análisis, vamos a separar la base de datos limpia en tres conjuntos: Un conjunto de entrenamiento, uno de validación y uno de prueba. Para esto, utilizamos la función 'train_test_split'. El porcentaje de la segmentación es el siguiente:\n",
    "\n",
    "* Conjunto de entrenamiento = 60%\n",
    "* Conjunto de validación = 20%\n",
    "* Conjunto de prueba = 20%"
   ]
  },
  {
   "cell_type": "code",
   "execution_count": 94,
   "metadata": {},
   "outputs": [],
   "source": [
    "# Datos para primer modelo de regresión lineal, bosque aleatorio y LGBM.\n",
    "\n",
    "df_train, df_val_test = train_test_split(df_filtered, test_size=0.4, random_state=0)\n",
    "df_valid, df_test = train_test_split(df_val_test, test_size=0.5, random_state=0)\n",
    "\n",
    "target_train = df_train['price']\n",
    "features_train = df_train.drop(['price'],axis=1)\n",
    "\n",
    "target_valid = df_valid['price']\n",
    "features_valid = df_valid.drop(['price'],axis=1)\n",
    "\n",
    "target_test = df_test['price']\n",
    "features_test = df_test.drop(['price'],axis=1)\n",
    "\n",
    "# Datos para modelo regresión lineal para OHE\n",
    "\n",
    "data_ohe = pd.get_dummies(df_filtered_ohe, drop_first=True)\n",
    "\n",
    "df_train_ohe, df_val_test_ohe = train_test_split(data_ohe, test_size=0.4, random_state=0)\n",
    "df_valid_ohe, df_test_ohe = train_test_split(df_val_test_ohe, test_size=0.5, random_state=0)\n",
    "\n",
    "target_train_ohe = df_train_ohe['price']\n",
    "features_train_ohe = df_train_ohe.drop(['price'],axis=1)\n",
    "\n",
    "target_test_ohe = df_test_ohe['price']\n",
    "features_test_ohe = df_test_ohe.drop(['price'],axis=1)"
   ]
  },
  {
   "cell_type": "markdown",
   "metadata": {},
   "source": [
    "### Modelo de regresión lineal\n",
    "\n",
    "El modelo de regresión lineal se utilizará como baseline o prueba de cordura. No se espera que tenga gran precisión, pero se espera que los otros modelos se comporten significativamente mejor. Además, el modelo de regresión lineal no tiene hiperparámetros que ajustar, así que se probará directamente con el conjunto de prueba."
   ]
  },
  {
   "cell_type": "code",
   "execution_count": 95,
   "metadata": {},
   "outputs": [
    {
     "name": "stdout",
     "output_type": "stream",
     "text": [
      "Raíz del error cuadrático medio (RECM): 2924.4992\n",
      "Coeficiente de determinación: 0.62\n"
     ]
    }
   ],
   "source": [
    "model = LinearRegression()\n",
    "model.fit(features_train, target_train)\n",
    "predictions = model.predict(features_test)\n",
    "\n",
    "# RECM\n",
    "print(\"Raíz del error cuadrático medio (RECM): %.4f\" % root_mean_squared_error(target_test, predictions))\n",
    "# R2\n",
    "print(\"Coeficiente de determinación: %.2f\" % r2_score(target_test, predictions))"
   ]
  },
  {
   "cell_type": "code",
   "execution_count": 96,
   "metadata": {},
   "outputs": [],
   "source": [
    "observations = np.arange(start=1, stop=np.size(predictions)+1, step=1)\n",
    "residuals = predictions - target_test"
   ]
  },
  {
   "cell_type": "code",
   "execution_count": 97,
   "metadata": {},
   "outputs": [
    {
     "data": {
      "image/png": "[encoded data removed]",
      "text/plain": [
       "<Figure size 640x480 with 1 Axes>"
      ]
     },
     "metadata": {},
     "output_type": "display_data"
    },
    {
     "name": "stdout",
     "output_type": "stream",
     "text": [
      "Promedio residuales : -14.0920\n",
      "Desviación estandard  2924.4652\n"
     ]
    }
   ],
   "source": [
    "# Plot outputs\n",
    "plt.scatter(observations, residuals, color=\"blue\",edgecolor=\"black\")\n",
    "plt.xlabel(\"Observations\")\n",
    "plt.ylabel(\"Error\")\n",
    "plt.title(\"Residuals\")\n",
    "plt.show()\n",
    "\n",
    "print(\"Promedio residuales : %.4f\" % np.average(residuals))\n",
    "print(\"Desviación estandard  %.4f\" % np.std(residuals))"
   ]
  },
  {
   "cell_type": "markdown",
   "metadata": {},
   "source": [
    "### Modelo de regresión lineal (OHE)"
   ]
  },
  {
   "cell_type": "markdown",
   "metadata": {},
   "source": [
    "El segundo modelo de regresión lineal difiere del primer modelo en los datos. Este modelo contiene una característica menos ('model') y, además, utiliza la técnica de codificación one-hot para representar los datos categóricos de manera numérica. "
   ]
  },
  {
   "cell_type": "code",
   "execution_count": 98,
   "metadata": {},
   "outputs": [
    {
     "name": "stdout",
     "output_type": "stream",
     "text": [
      "Raíz del error cuadrático medio (RECM): 2733.9404\n",
      "Coeficiente de determinación: 0.67\n"
     ]
    }
   ],
   "source": [
    "model = LinearRegression()\n",
    "model.fit(features_train_ohe, target_train_ohe)\n",
    "predictions = model.predict(features_test_ohe)\n",
    "\n",
    "# RECM\n",
    "print(\"Raíz del error cuadrático medio (RECM): %.4f\" % root_mean_squared_error(target_test_ohe, predictions))\n",
    "# R2\n",
    "print(\"Coeficiente de determinación: %.2f\" % r2_score(target_test_ohe, predictions))"
   ]
  },
  {
   "cell_type": "markdown",
   "metadata": {},
   "source": [
    "Podemos observar que el RECM de este modelo es ligeramente menor que el RECM del primer modelo, pero esta diferencia es muy pequeña. Además, para su ejecución fue necesario quitar la columna 'model' de nuestros datos. Esta columna es importante, ya que en la práctica sabemos que el modelo de un vehículo es una variable que afecta el precio de venta."
   ]
  },
  {
   "cell_type": "markdown",
   "metadata": {},
   "source": [
    "### Bosque aleatorio"
   ]
  },
  {
   "cell_type": "code",
   "execution_count": 99,
   "metadata": {},
   "outputs": [
    {
     "name": "stdout",
     "output_type": "stream",
     "text": [
      "Raíz del error cuadrático medio (RECM): 1656.6092\n",
      "Coeficiente de determinación: 0.88\n"
     ]
    }
   ],
   "source": [
    "# Default settings\n",
    "model_1 = RandomForestRegressor(random_state=12345)\n",
    "model_1.fit(features_train, target_train)\n",
    "predictions = model_1.predict(features_test)\n",
    "\n",
    "# RECM\n",
    "print(\"Raíz del error cuadrático medio (RECM): %.4f\" % root_mean_squared_error(target_test, predictions))\n",
    "# R2\n",
    "print(\"Coeficiente de determinación: %.2f\" % r2_score(target_test, predictions))"
   ]
  },
  {
   "cell_type": "code",
   "execution_count": 100,
   "metadata": {},
   "outputs": [
    {
     "name": "stdout",
     "output_type": "stream",
     "text": [
      "Computing RandomForestRegressor with n_estimators = 10\n",
      "Computing RandomForestRegressor with n_estimators = 20\n",
      "Computing RandomForestRegressor with n_estimators = 30\n",
      "Computing RandomForestRegressor with n_estimators = 40\n",
      "Computing RandomForestRegressor with n_estimators = 50\n",
      "Computing RandomForestRegressor with n_estimators = 60\n",
      "Computing RandomForestRegressor with n_estimators = 70\n",
      "Computing RandomForestRegressor with n_estimators = 80\n",
      "Computing RandomForestRegressor with n_estimators = 90\n",
      "Computing RandomForestRegressor with n_estimators = 100\n",
      "Computing RandomForestRegressor with n_estimators = 110\n",
      "Computing RandomForestRegressor with n_estimators = 120\n",
      "Computing RandomForestRegressor with n_estimators = 130\n",
      "Computing RandomForestRegressor with n_estimators = 140\n",
      "Computing RandomForestRegressor with n_estimators = 150\n",
      "El mejor n_estimators = 150 , RECM= 1666.480240223272"
     ]
    }
   ],
   "source": [
    "# Ajustando n_estimators\n",
    "recm_forest = np.zeros((2, 15))\n",
    "\n",
    "for i in range (1,16):\n",
    "    est = i*10\n",
    "    model_2 = RandomForestRegressor(random_state=123, n_estimators=est)\n",
    "    model_2.fit(features_train, target_train)\n",
    "    print(\"Computing RandomForestRegressor with n_estimators =\",est)\n",
    "    predictions_forest = model_2.predict(features_valid)\n",
    "    recm_forest[0,i-1] = est\n",
    "    recm_forest[1,i-1] = root_mean_squared_error(target_valid, predictions_forest)\n",
    "\n",
    "best_n_estimators = (recm_forest[1,:].argmin()+1)    \n",
    "print(\"El mejor n_estimators =\", best_n_estimators*10, \", RECM=\", recm_forest[1,best_n_estimators-1], end='')"
   ]
  },
  {
   "cell_type": "markdown",
   "metadata": {},
   "source": [
    "### Light Gradient-Boosting Machine (LGBM)"
   ]
  },
  {
   "cell_type": "code",
   "execution_count": 101,
   "metadata": {},
   "outputs": [],
   "source": [
    "from lightgbm import LGBMRegressor "
   ]
  },
  {
   "cell_type": "code",
   "execution_count": 102,
   "metadata": {
    "scrolled": true
   },
   "outputs": [
    {
     "name": "stdout",
     "output_type": "stream",
     "text": [
      "Raíz del error cuadrático medio (RECM): 1730.3865\n",
      "Coeficiente de determinación: 0.87\n"
     ]
    }
   ],
   "source": [
    "model_3 = LGBMRegressor(metric='rmse',verbose=0) \n",
    "model_3.fit(features_train,target_train) \n",
    "predictions = model_3.predict(features_test)\n",
    "\n",
    "# RECM\n",
    "print(\"Raíz del error cuadrático medio (RECM): %.4f\" % root_mean_squared_error(target_test, predictions))\n",
    "# R2\n",
    "print(\"Coeficiente de determinación: %.2f\" % r2_score(target_test, predictions))"
   ]
  },
  {
   "cell_type": "code",
   "execution_count": 103,
   "metadata": {},
   "outputs": [
    {
     "name": "stdout",
     "output_type": "stream",
     "text": [
      "Computing LGBMRegressor with n_estimators = 100\n",
      "Computing LGBMRegressor with n_estimators = 200\n",
      "Computing LGBMRegressor with n_estimators = 300\n",
      "Computing LGBMRegressor with n_estimators = 400\n",
      "Computing LGBMRegressor with n_estimators = 500\n",
      "Computing LGBMRegressor with n_estimators = 600\n",
      "Computing LGBMRegressor with n_estimators = 700\n",
      "Computing LGBMRegressor with n_estimators = 800\n",
      "Computing LGBMRegressor with n_estimators = 900\n",
      "Computing LGBMRegressor with n_estimators = 1000\n",
      "El mejor n_estimators = 1000 , RECM= 1414.3435444145118"
     ]
    }
   ],
   "source": [
    "# Ajustando n_estimators\n",
    "recm_lgbmregressor = np.zeros((2, 100))\n",
    "\n",
    "for i in range (1,101):\n",
    "    est = i*10\n",
    "    model_4 = LGBMRegressor(random_state=123, n_estimators=est,verbose=0)\n",
    "    model_4.fit(features_train, target_train)\n",
    "    if est%100 == 0:\n",
    "        print(\"Computing LGBMRegressor with n_estimators =\",est)\n",
    "    predictions_lgbmr = model_4.predict(features_train)\n",
    "    recm_lgbmregressor[0,i-1] = est\n",
    "    recm_lgbmregressor[1,i-1] = root_mean_squared_error(target_train, predictions_lgbmr)\n",
    "\n",
    "best_n_estimators = (recm_lgbmregressor[1,:].argmin()+1)    \n",
    "print(\"El mejor n_estimators =\", best_n_estimators*10, \", RECM=\", recm_lgbmregressor[1,best_n_estimators-1], end='')    "
   ]
  },
  {
   "cell_type": "markdown",
   "metadata": {},
   "source": [
    "## Análisis del modelo"
   ]
  },
  {
   "cell_type": "markdown",
   "metadata": {},
   "source": [
    "### Bosque aleatorio"
   ]
  },
  {
   "cell_type": "markdown",
   "metadata": {},
   "source": [
    "El hiperparámetro que se ajustó para incrementar la precisión del bosque aleatorio fue \"n_estimators\". De manera general, se puede decir que el ajuste de este parámetro por encima de 100 hace el entrenamiento del modelo considerablemente lento. Por eso, se optó por incrementar este valor hasta llegar a 150."
   ]
  },
  {
   "cell_type": "code",
   "execution_count": 104,
   "metadata": {},
   "outputs": [
    {
     "data": {
      "image/png": "[encoded data removed]",
      "text/plain": [
       "<Figure size 640x480 with 1 Axes>"
      ]
     },
     "metadata": {},
     "output_type": "display_data"
    },
    {
     "name": "stdout",
     "output_type": "stream",
     "text": [
      "Raíz del error cuadrático medio (RECM): 1653.5801\n",
      "Coeficiente de determinación: 0.88\n"
     ]
    }
   ],
   "source": [
    "plt.plot(recm_forest[0,:],recm_forest[1,:],\"bo-\",markeredgecolor='k')\n",
    "plt.xlabel(\"n_estimators\")\n",
    "plt.ylabel(\"RECM\")\n",
    "plt.title(\"RandomForestRegressor\")\n",
    "plt.show()\n",
    "\n",
    "predictions_forest = model_2.predict(features_test)\n",
    "# RECM\n",
    "print(\"Raíz del error cuadrático medio (RECM): %.4f\" % root_mean_squared_error(target_test, predictions_forest))\n",
    "# R2\n",
    "print(\"Coeficiente de determinación: %.2f\" % r2_score(target_test, predictions_forest))"
   ]
  },
  {
   "cell_type": "markdown",
   "metadata": {},
   "source": [
    "### Light Gradient-Boosting Machine "
   ]
  },
  {
   "cell_type": "markdown",
   "metadata": {},
   "source": [
    "El hiperparámetro que se ajustó para incrementar la precisión del Light Gradient-Boosting Machine (LGBM) fue \"n_estimators\". De manera general, se puede decir que ajustar este parámetro es relativamente más rápido que en el bosque aleatorio. Se pudo incrementar hasta 1000 sin tener gran penalización en términos computacionales."
   ]
  },
  {
   "cell_type": "code",
   "execution_count": 105,
   "metadata": {},
   "outputs": [
    {
     "data": {
      "image/png": "[encoded data removed]",
      "text/plain": [
       "<Figure size 640x480 with 1 Axes>"
      ]
     },
     "metadata": {},
     "output_type": "display_data"
    },
    {
     "name": "stdout",
     "output_type": "stream",
     "text": [
      "Raíz del error cuadrático medio (RECM): 1595.8608\n",
      "Coeficiente de determinación: 0.89\n"
     ]
    }
   ],
   "source": [
    "plt.plot(recm_lgbmregressor[0,:],recm_lgbmregressor[1,:],\"bo-\",markeredgecolor='k')\n",
    "plt.xlabel(\"n_estimators\")\n",
    "plt.ylabel(\"RECM\")\n",
    "plt.title(\"LGBMRegressor\")\n",
    "plt.show()\n",
    "\n",
    "predictions_lgbmr = model_4.predict(features_test)\n",
    "# RECM\n",
    "print(\"Raíz del error cuadrático medio (RECM): %.4f\" % root_mean_squared_error(target_test, predictions_lgbmr))\n",
    "# R2\n",
    "print(\"Coeficiente de determinación: %.2f\" % r2_score(target_test, predictions_lgbmr))"
   ]
  },
  {
   "cell_type": "markdown",
   "metadata": {},
   "source": [
    "## Conclusiones"
   ]
  },
  {
   "cell_type": "markdown",
   "metadata": {},
   "source": [
    "En este proyecto se crearon tres modelos para predecir el precio de autos usados a partir de una base de datos. El modelo de regresión lineal se creó simplemente para usarlo como referencia, sabiendo que los siguientes dos modelos deben ser significativamente mejores que el primero. El parámetro de referencia es la Raíz del Error Cuadrático Medio (RECM) y este valor es mucho menor para los modelos de Bosque Aleatorio y LGBM que para el de regresión lineal (valores para el conjunto de prueba).\n",
    "\n",
    "* RECM\n",
    "    * Regresión lineal: 2924.4992\n",
    "    * Bosque Aleatorio: 1653.5801 \n",
    "    * LGBM: 1595.8608\n",
    "    \n",
    "El modelo que mejor se desempeñó fue el LGBM, ya que permitió un mayor ajuste del \"n_estimators\" sin tener una penalización significativa en el tiempo de cómputo. Sin embargo, para valores pequeños de \"n_estimators\", el Bosque Aleatorio se comportó mejor, ya que para los mismos ajustes tiene un menor valor de RECM, tal como se puede observar en la gráfica de abajo."
   ]
  },
  {
   "cell_type": "code",
   "execution_count": 106,
   "metadata": {},
   "outputs": [
    {
     "data": {
      "image/png": "[encoded data removed]",
      "text/plain": [
       "<Figure size 640x480 with 1 Axes>"
      ]
     },
     "metadata": {},
     "output_type": "display_data"
    }
   ],
   "source": [
    "plt.plot(recm_forest[0,:],recm_forest[1,:],\"k-\")\n",
    "plt.plot(recm_lgbmregressor[0,:],recm_lgbmregressor[1,:],\"b-\")\n",
    "plt.xlim(10,100)\n",
    "plt.legend([\"RandomForestRegressor\",\"LGBMRegressor\"])\n",
    "plt.xlabel(\"n_estimators\")\n",
    "plt.ylabel(\"RECM\")\n",
    "plt.show()"
   ]
  }
 ],
 "metadata": {
  "ExecuteTimeLog": [
   {
    "duration": 6102,
    "start_time": "2024-07-14T04:01:41.863Z"
   },
   {
    "duration": 33,
    "start_time": "2024-07-14T04:02:46.807Z"
   },
   {
    "duration": 37,
    "start_time": "2024-07-14T04:02:49.291Z"
   },
   {
    "duration": 5,
    "start_time": "2024-07-14T04:02:59.790Z"
   },
   {
    "duration": 6080,
    "start_time": "2024-07-14T04:03:07.583Z"
   },
   {
    "duration": 28,
    "start_time": "2024-07-14T04:03:18.288Z"
   },
   {
    "duration": 148,
    "start_time": "2024-07-14T04:03:19.175Z"
   },
   {
    "duration": 423,
    "start_time": "2024-07-14T04:03:25.548Z"
   },
   {
    "duration": 5,
    "start_time": "2024-07-14T04:08:15.290Z"
   },
   {
    "duration": 294,
    "start_time": "2024-07-14T04:08:48.030Z"
   },
   {
    "duration": 294,
    "start_time": "2024-07-14T04:10:59.537Z"
   },
   {
    "duration": 31,
    "start_time": "2024-07-14T04:11:46.745Z"
   },
   {
    "duration": 12,
    "start_time": "2024-07-14T04:12:16.888Z"
   },
   {
    "duration": 24,
    "start_time": "2024-07-14T04:12:26.612Z"
   },
   {
    "duration": 25,
    "start_time": "2024-07-14T04:12:28.992Z"
   },
   {
    "duration": 7,
    "start_time": "2024-07-14T04:12:32.431Z"
   },
   {
    "duration": 24,
    "start_time": "2024-07-14T04:12:35.546Z"
   },
   {
    "duration": 25,
    "start_time": "2024-07-14T04:12:37.680Z"
   },
   {
    "duration": 6,
    "start_time": "2024-07-14T04:13:04.689Z"
   },
   {
    "duration": 621,
    "start_time": "2024-07-14T04:13:45.519Z"
   },
   {
    "duration": 100,
    "start_time": "2024-07-14T04:13:51.578Z"
   },
   {
    "duration": 120,
    "start_time": "2024-07-14T04:13:57.665Z"
   },
   {
    "duration": 1825,
    "start_time": "2024-07-14T04:14:16.447Z"
   },
   {
    "duration": 2211,
    "start_time": "2024-07-14T04:14:20.421Z"
   },
   {
    "duration": 23,
    "start_time": "2024-07-14T04:14:24.266Z"
   },
   {
    "duration": 156,
    "start_time": "2024-07-14T04:14:26.018Z"
   },
   {
    "duration": 417,
    "start_time": "2024-07-14T04:14:27.530Z"
   },
   {
    "duration": 6,
    "start_time": "2024-07-14T04:14:29.548Z"
   },
   {
    "duration": 289,
    "start_time": "2024-07-14T04:14:31.131Z"
   },
   {
    "duration": 288,
    "start_time": "2024-07-14T04:14:33.860Z"
   },
   {
    "duration": 525,
    "start_time": "2024-07-14T04:14:35.915Z"
   },
   {
    "duration": 27,
    "start_time": "2024-07-14T04:16:41.048Z"
   },
   {
    "duration": 14,
    "start_time": "2024-07-14T04:22:34.322Z"
   },
   {
    "duration": 30,
    "start_time": "2024-07-14T04:22:41.500Z"
   },
   {
    "duration": 513,
    "start_time": "2024-07-14T04:26:42.460Z"
   },
   {
    "duration": 28,
    "start_time": "2024-07-14T04:27:58.233Z"
   },
   {
    "duration": 2305,
    "start_time": "2024-07-18T00:15:13.031Z"
   },
   {
    "duration": 33,
    "start_time": "2024-07-18T00:15:26.447Z"
   },
   {
    "duration": 6,
    "start_time": "2024-07-18T00:15:28.177Z"
   },
   {
    "duration": 2646,
    "start_time": "2024-07-18T00:15:35.171Z"
   },
   {
    "duration": 24,
    "start_time": "2024-07-18T00:16:00.034Z"
   },
   {
    "duration": 174,
    "start_time": "2024-07-18T00:16:00.063Z"
   },
   {
    "duration": 418,
    "start_time": "2024-07-18T00:16:00.240Z"
   },
   {
    "duration": 5,
    "start_time": "2024-07-18T00:16:00.663Z"
   },
   {
    "duration": 83,
    "start_time": "2024-07-18T00:16:00.672Z"
   },
   {
    "duration": 536,
    "start_time": "2024-07-18T00:16:15.505Z"
   },
   {
    "duration": 293,
    "start_time": "2024-07-18T00:16:16.045Z"
   },
   {
    "duration": 523,
    "start_time": "2024-07-18T00:16:16.341Z"
   },
   {
    "duration": 102,
    "start_time": "2024-07-18T00:16:16.868Z"
   },
   {
    "duration": 278,
    "start_time": "2024-07-18T00:16:16.974Z"
   },
   {
    "duration": 67,
    "start_time": "2024-07-18T00:16:17.256Z"
   },
   {
    "duration": 505,
    "start_time": "2024-07-18T00:16:47.696Z"
   },
   {
    "duration": 34,
    "start_time": "2024-07-18T00:16:50.666Z"
   }
  ],
  "kernelspec": {
   "display_name": "Python 3 (ipykernel)",
   "language": "python",
   "name": "python3"
  },
  "language_info": {
   "codemirror_mode": {
    "name": "ipython",
    "version": 3
   },
   "file_extension": ".py",
   "mimetype": "text/x-python",
   "name": "python",
   "nbconvert_exporter": "python",
   "pygments_lexer": "ipython3",
   "version": "3.11.5"
  },
  "toc": {
   "base_numbering": 1,
   "nav_menu": {},
   "number_sections": true,
   "sideBar": true,
   "skip_h1_title": true,
   "title_cell": "Table of Contents",
   "title_sidebar": "Contents",
   "toc_cell": false,
   "toc_position": {},
   "toc_section_display": true,
   "toc_window_display": false
  }
 },
 "nbformat": 4,
 "nbformat_minor": 2
}
